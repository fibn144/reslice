{
 "metadata": {
  "name": "reslicing data"
 },
 "nbformat": 3,
 "nbformat_minor": 0,
 "worksheets": [
  {
   "cells": [
    {
     "cell_type": "markdown",
     "metadata": {},
     "source": [
      "Reslicing Matrix Data\n",
      "=====================\n",
      "\n",
      " * what is a bounding box\n",
      "\n",
      " * how should we implement interface to make it intuitive to a user\n",
      "\n",
      "   variable names?\n",
      "\n",
      " * test driven development\n",
      "\n",
      "    write the tests\n",
      "    make them work\n",
      "\n",
      " * usecases\n",
      "\n",
      "    what will the user expect to see and how will they use this\n",
      "\n",
      "\n"
     ]
    },
    {
     "cell_type": "markdown",
     "metadata": {},
     "source": [
      "Current Implementation\n",
      "=======================\n",
      "Here is some current code that calls a c-binary....but can result in badly sliced data, primarily because data is expeced to be axial, but often can be collected coronally\n",
      "\n",
      "[explanation of MRI planes](http://bit.ly/11gz0PS \"mri planes\")\n"
     ]
    },
    {
     "cell_type": "code",
     "collapsed": false,
     "input": [
      "a = 'this is a string'\n",
      "b = \"\"\"this is also a string\n",
      "but it maintains formatting\n",
      "without me thingking\n",
      "too much...\n",
      "\"\"\"\n",
      "print a\n",
      "\n",
      "print b\n"
     ],
     "language": "python",
     "metadata": {},
     "outputs": [
      {
       "output_type": "stream",
       "stream": "stdout",
       "text": [
        "this is a string\n",
        "this is also a string\n",
        "but it maintains formatting\n",
        "without me thingking\n",
        "too much...\n",
        "\n"
       ]
      }
     ],
     "prompt_number": 2
    },
    {
     "cell_type": "code",
     "collapsed": false,
     "input": [
      "import os\n",
      "import sys\n",
      "\"\"\"\n",
      "if len(sys.argv) < 2:\n",
      "        print 'usage '\n",
      "        print 'python reslice.py <list of new subjects>'\n",
      "        print ''\n",
      "        print 'chaque ligne doit etre en format de:'\n",
      "        print '\\\"./B10-223/B10-223_flair.nii.gz\\\"'\n",
      "        print ''\n",
      "        sys.exit()\n",
      "\"\"\"\n",
      "infile = file('gzlist','r')\n",
      "\n",
      "inlist = [line.split('\\n')[0] for line in infile.readlines()]\n",
      "homedir = os.path.abspath('.')\n",
      "print homedir\n",
      "#stop\n",
      "for line in inlist:\n",
      "        line = line.replace('\\\"', '')\n",
      "        L = line.split('/')\n",
      "        targdir = L[1]\n",
      "        img = L[2]\n",
      "        os.chdir(targdir)\n",
      "        if 'gz' in img:\n",
      "                cmd = 'gunzip ' + img\n",
      "                os.system(cmd)\n",
      "                unzip = img.split('.gz')[0]\n",
      "        else:\n",
      "                unzip = img\n",
      "        cmd = 'resliceLattice ' + unzip + ' -zdim 45'\n",
      "        print cmd\n",
      "        os.system(cmd)\n",
      "        os.chdir(homedir)"
     ],
     "language": "python",
     "metadata": {},
     "outputs": []
    },
    {
     "cell_type": "markdown",
     "metadata": {},
     "source": [
      "Above is the script that calls a binary **resliceLattice** program.\n",
      "As a first pass lets have you clean this up."
     ]
    },
    {
     "cell_type": "markdown",
     "metadata": {},
     "source": [
      "Github\n",
      "======\n",
      "\n",
      "1. get an account\n",
      "2. set up your local config\n",
      "3. fork an existing repo\n",
      "4. clone to local\n"
     ]
    },
    {
     "cell_type": "markdown",
     "metadata": {},
     "source": [
      "Issues involved with reslicing matrix data\n",
      "\n",
      "1. bounding box: what are the perimeters of the data\n",
      "2. datatype: how is the data represented, how does this impact resampling?\n",
      "3. target : what do we want the output data to look like?\n",
      "4. how do you deal with (test for / represent)  missing data?\n"
     ]
    }
   ],
   "metadata": {}
  }
 ]
}